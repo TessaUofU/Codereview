{
 "cells": [
  {
   "cell_type": "code",
   "execution_count": 10,
   "id": "4eb87653",
   "metadata": {},
   "outputs": [
    {
     "name": "stdout",
     "output_type": "stream",
     "text": [
      "3.E: {1, 2, 3, 4, 5, 6, 7, 8, 9}\n",
      "3.F: Not Equal\n",
      "3.D: The differences between the sets of one_a and three_e. The elements requiring being changed: {0}\n"
     ]
    }
   ],
   "source": [
    "#Problem 3: Set combinations\n",
    "\n",
    "#Given the predefined sets below and using set methods\n",
    "\n",
    "#3e add 9 to the set\n",
    "#3f Using == compare this set to the list in one_a\n",
    "#3g Explain why they are not the same. What would you need to change if you wanted this to be True?\n",
    " \n",
    "\n",
    "three_setA = {1,2,3,4,5}\n",
    "three_setB = {2,3,4,5,6}\n",
    "three_setC = {3,5,7,9}\n",
    "three_setD = {2,4,6,8}\n",
    "three_setE = {1,2,3,4}\n",
    "\n",
    "\n",
    "\n",
    "three_d = three_setC.union(three_setD, three_setE) #need this set to continue with problem 3e\n",
    "\n",
    "three_e = three_d.copy()                           #created a copy of the three_d set to add the element 9 to it\n",
    "three_e.add(9)                                     #add 9 to the set\n",
    "print(\"3.E:\" ,three_e)                             #print the new list as the answer for the problem 3e\n",
    "\n",
    "one_a = [0, 8, 7, 1, 5, 6, 4, 2, 3, 9, 1, 2]       #copied list one_a for reference for problem 3f\n",
    "three_f = set(one_a)                               #converted list to set to compare to 3e set\n",
    "if three_f == three_e :                            #Use if/else statement to compare the sets\n",
    "    print(\"3.F: Equal\")\n",
    "else:\n",
    "    print(\"3.F: Not Equal\")\n",
    "\n",
    "three_g = three_f.difference(three_e)              #Print out the differences between the sets and what needs to be changed.\n",
    "print(\"3.D: The differences between the sets of one_a and three_e. The elements requiring being changed:\" , three_g)"
   ]
  },
  {
   "cell_type": "code",
   "execution_count": null,
   "id": "44bf932b",
   "metadata": {},
   "outputs": [],
   "source": []
  }
 ],
 "metadata": {
  "kernelspec": {
   "display_name": "Python 3 (ipykernel)",
   "language": "python",
   "name": "python3"
  },
  "language_info": {
   "codemirror_mode": {
    "name": "ipython",
    "version": 3
   },
   "file_extension": ".py",
   "mimetype": "text/x-python",
   "name": "python",
   "nbconvert_exporter": "python",
   "pygments_lexer": "ipython3",
   "version": "3.9.12"
  }
 },
 "nbformat": 4,
 "nbformat_minor": 5
}
